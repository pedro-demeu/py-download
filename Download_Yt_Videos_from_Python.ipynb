{
  "nbformat": 4,
  "nbformat_minor": 0,
  "metadata": {
    "colab": {
      "provenance": [],
      "authorship_tag": "ABX9TyOIBFX+3WJuBzqHd+O/A8yE",
      "include_colab_link": true
    },
    "kernelspec": {
      "name": "python3",
      "display_name": "Python 3"
    },
    "language_info": {
      "name": "python"
    }
  },
  "cells": [
    {
      "cell_type": "markdown",
      "metadata": {
        "id": "view-in-github",
        "colab_type": "text"
      },
      "source": [
        "<a href=\"https://colab.research.google.com/github/pedro-demeu/py-download/blob/main/Download_Yt_Videos_from_Python.ipynb\" target=\"_parent\"><img src=\"https://colab.research.google.com/assets/colab-badge.svg\" alt=\"Open In Colab\"/></a>"
      ]
    },
    {
      "cell_type": "code",
      "execution_count": null,
      "metadata": {
        "id": "ZK-zKMaaXGrf"
      },
      "outputs": [],
      "source": []
    },
    {
      "cell_type": "code",
      "source": [
        "pip install pytube"
      ],
      "metadata": {
        "colab": {
          "base_uri": "https://localhost:8080/"
        },
        "id": "ew5RMtdJX6vq",
        "outputId": "4224fcfb-d34f-4e23-bae5-0595655e0ddb"
      },
      "execution_count": null,
      "outputs": [
        {
          "output_type": "stream",
          "name": "stdout",
          "text": [
            "Looking in indexes: https://pypi.org/simple, https://us-python.pkg.dev/colab-wheels/public/simple/\n",
            "Requirement already satisfied: pytube in /usr/local/lib/python3.10/dist-packages (15.0.0)\n"
          ]
        }
      ]
    },
    {
      "cell_type": "code",
      "source": [
        "from pytube import YouTube\n",
        "\n",
        "def py_download(link):\n",
        "  youtubeObject = YouTube(link)\n",
        "  transformedObject = youtubeObject.streams.get_highest_resolution()\n",
        "\n",
        "  try:\n",
        "    transformedObject.download()\n",
        "    print(\"Successfuly download\")\n",
        "  except:\n",
        "    print(\"Failed to download\");\n",
        "  \n",
        "link = input(\"Enter the Youtube video URL:\")\n",
        "py_download(link)"
      ],
      "metadata": {
        "colab": {
          "base_uri": "https://localhost:8080/"
        },
        "id": "fI-KeIB1YFAD",
        "outputId": "796cb5b7-b3c2-4ffc-917f-5e6a3a4be8db"
      },
      "execution_count": null,
      "outputs": [
        {
          "output_type": "stream",
          "name": "stdout",
          "text": [
            "Enter the Youtube video URL:https://www.youtube.com/watch?v=par0rwkCCB0&ab_channel=markReymer\n",
            "Successfuly download\n"
          ]
        }
      ]
    },
    {
      "cell_type": "code",
      "source": [],
      "metadata": {
        "id": "aK35bFfgYxkR"
      },
      "execution_count": null,
      "outputs": []
    }
  ]
}